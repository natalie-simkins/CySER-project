{
  "cells": [
    {
      "cell_type": "markdown",
      "metadata": {
        "id": "view-in-github",
        "colab_type": "text"
      },
      "source": [
        "<a href=\"https://colab.research.google.com/github/natalie-simkins/CySER-project/blob/main/retirementapp.ipynb\" target=\"_parent\"><img src=\"https://colab.research.google.com/assets/colab-badge.svg\" alt=\"Open In Colab\"/></a>"
      ]
    },
    {
      "cell_type": "markdown",
      "metadata": {
        "id": "4UNBMkr-1SoI"
      },
      "source": [
        "# Creating a Retirement App Using Python\n",
        "## FIN 429 - Financial Modeling"
      ]
    },
    {
      "cell_type": "code",
      "execution_count": null,
      "metadata": {
        "id": "CcL8JSXS1SSk"
      },
      "outputs": [],
      "source": [
        "# First, the notebook must install Streamlit (necessary for Web Apps)\n",
        "!pip install streamlit pyngrok -q"
      ]
    },
    {
      "cell_type": "markdown",
      "source": [
        "### Application Script (app.py):\n",
        "\n",
        "**Page Setup:** The script starts with setting up the Streamlit page, including the title (\"Financial Planning Calculator\").\n",
        "\n",
        "**User Inputs:** The app collects various user inputs:\n",
        "\n",
        "**Monthly Income:** User inputs for annual salary and tax rate.\n",
        "\n",
        "**Monthly Expenses:** Inputs for monthly rental, food budget, unforeseen expenses, transport fees, utilities, and entertainment budget.\n",
        "\n",
        "### Calculations for net monthly take-home salary and total monthly expenses:\n",
        "**Savings Forecast:**\n",
        "\n",
        "Inputs for forecasting years. Calculations to forecast future salary, expenses, and savings over the given period, consider adding inflation and salary growth.\n",
        "\n",
        "**Visualization:**\n",
        "\n",
        "A Plotly graph visualizing the forecasted salary, expenses, and cumulative savings over the years."
      ],
      "metadata": {
        "id": "ipJqrxNuKwWD"
      }
    },
    {
      "cell_type": "code",
      "execution_count": null,
      "metadata": {
        "colab": {
          "base_uri": "https://localhost:8080/"
        },
        "id": "fUzhOHxU1E4o",
        "outputId": "11c6dacf-3f6c-4155-be71-777fd4d9dde8"
      },
      "outputs": [
        {
          "output_type": "stream",
          "name": "stdout",
          "text": [
            "Overwriting app.py\n"
          ]
        }
      ],
      "source": [
        "# This text allows a Jupyter Notebook to interact like a local .py file\n",
        "%%writefile app.py\n",
        "\n",
        "# These three bring in streamlit, plotting software, and our favorite - numpy\n",
        "import streamlit as st\n",
        "import plotly.graph_objects as go\n",
        "import numpy as np\n",
        "\n",
        "st.set_page_config(page_title=\"Simple Financial Planner\")\n",
        "\n",
        "st.title(\"Simple Financial Planner\")\n",
        "st.subheader(\"Plan your retirement savings with a basic income and expense tracker.\")\n",
        "\n",
        "# Section 1: Monthly Income\n",
        "st.header(\"Monthly Income\")\n",
        "annual_salary = st.number_input(\"Enter your annual salary ($):\", min_value=0.0, step=1000.0, value=50000.0)\n",
        "tax_rate = st.slider(\"Select your tax rate (%):\", min_value=0.0, max_value=50.0, value=20.0, step=1.0)\n",
        "\n",
        "# Calculate take-home monthly income\n",
        "tax_rate = tax_rate / 100\n",
        "monthly_income = (annual_salary * (1 - tax_rate)) / 12\n",
        "st.write(f\"Your monthly take-home income is: **${monthly_income:.2f}**\")\n",
        "\n",
        "# Section 2: Monthly Expenses\n",
        "st.header(\"Monthly Expenses\")\n",
        "rent = st.number_input(\"Monthly Rent ($):\", min_value=0.0, step=50.0, value=1000.0)\n",
        "food = st.number_input(\"Monthly Food Budget ($):\", min_value=0.0, step=50.0, value=500.0)\n",
        "transport = st.number_input(\"Monthly Transport Costs ($):\", min_value=0.0, step=50.0, value=200.0)\n",
        "\n",
        "total_expenses = rent + food + transport\n",
        "monthly_savings = max(monthly_income - total_expenses, 0)\n",
        "\n",
        "st.write(f\"Your total monthly expenses are: **${total_expenses:.2f}**\")\n",
        "st.write(f\"Your estimated monthly savings are: **${monthly_savings:.2f}**\")\n",
        "\n",
        "# Section 3: Simple Simulation\n",
        "st.header(\"Retirement Savings Simulation\")\n",
        "st.subheader(\"Estimate your retirement savings based on monthly contributions and expected returns.\")\n",
        "\n",
        "current_savings = st.number_input(\"Current Savings ($):\", min_value=0.0, step=1000.0, value=10000.0)\n",
        "monthly_contribution = st.slider(\n",
        "    \"Set your monthly contribution to savings ($):\",\n",
        "    min_value=0.0,\n",
        "    max_value=monthly_savings,\n",
        "    value=min(500.0, monthly_savings),\n",
        "    step=50.0\n",
        ")\n",
        "annual_return = st.slider(\"Expected Annual Return on Investments (%):\", min_value=0.0, max_value=15.0, value=8.0) / 100\n",
        "years_to_retirement = st.slider(\"Years until retirement:\", min_value=1, max_value=50, value=30, step=1)\n",
        "\n",
        "# Projected savings calculation\n",
        "total_months = years_to_retirement * 12\n",
        "monthly_return = (1 + annual_return) ** (1 / 12) - 1\n",
        "future_savings = current_savings * (1 + monthly_return) ** total_months\n",
        "for month in range(total_months):\n",
        "    future_savings += monthly_contribution * (1 + monthly_return) ** (total_months - month)\n",
        "\n",
        "st.write(f\"Projected savings at retirement: **${future_savings:,.2f}**\")\n",
        "\n",
        "# Visualization\n",
        "st.subheader(\"Savings Over Time\")\n",
        "savings_over_time = [current_savings]\n",
        "for month in range(1, total_months + 1):\n",
        "    savings_over_time.append(\n",
        "        savings_over_time[-1] * (1 + monthly_return) + monthly_contribution\n",
        "    )\n",
        "fig = go.Figure()\n",
        "fig.add_trace(go.Scatter(x=list(range(total_months + 1)), y=savings_over_time, mode='lines', name='Savings'))\n",
        "fig.update_layout(title=\"Projected Savings Over Time\", xaxis_title=\"Months\", yaxis_title=\"Total Savings ($)\")\n",
        "st.plotly_chart(fig, use_container_width=True)\n",
        "\n",
        "# Suggested Enhancements & Requirements\n",
        "st.header(\"Project Minimums\")\n",
        "st.markdown(\"\"\"\n",
        "From this template, groups should expand their retirement model. For full credit, at least three new variables (e.g., expenses/savings), 1-3 new visualizations, and a new dynamic function (e.g., a slider) should be included.\n",
        "Groups are also encouraged to use external resources, or create their own retirement model from scratch. Ultimately, we will host these on [Streamlit's Cloud](https://streamlit.io/cloud).\n",
        "\"\"\")\n",
        "\n",
        "st.header(\"Suggested Enhancements for Students\")\n",
        "st.markdown(\"\"\"\n",
        "1. Add more expense categories (e.g., entertainment, healthcare, education).\n",
        "2. Include an option for salary growth over time (e.g., annual raises or promotions).\n",
        "3. Add debt repayment planning (e.g., loan balance and interest rate).\n",
        "4. Implement advanced simulations (e.g., Monte Carlo scenarios).\n",
        "5. Include inflation adjustments for expenses and savings goals.\n",
        "\"\"\")"
      ]
    },
    {
      "cell_type": "code",
      "source": [
        "# Set up Ngrok authentication token (This is Adam's key - you can sign up for your own @ https://ngrok.com/)\n",
        "!ngrok authtoken 2rlPWA6nwOGlALaHwVkMImZdfDO_6sU5Uw6SmzFNuo8U79eHw"
      ],
      "metadata": {
        "colab": {
          "base_uri": "https://localhost:8080/"
        },
        "id": "gHQVjDdcLPKd",
        "outputId": "f2747fc8-bce3-4e56-eeb3-19d600414873"
      },
      "execution_count": null,
      "outputs": [
        {
          "output_type": "stream",
          "name": "stdout",
          "text": [
            "Authtoken saved to configuration file: /root/.config/ngrok/ngrok.yml\n"
          ]
        }
      ]
    },
    {
      "cell_type": "markdown",
      "source": [
        "### You shoulnd't change any of the following to run this in your browser"
      ],
      "metadata": {
        "id": "NbQapVp3Lcdr"
      }
    },
    {
      "cell_type": "code",
      "execution_count": null,
      "metadata": {
        "colab": {
          "base_uri": "https://localhost:8080/"
        },
        "id": "Tz9SVg1A51gW",
        "outputId": "8194ac05-4c73-4f3b-f7b9-a4cb859c24c0"
      },
      "outputs": [
        {
          "output_type": "stream",
          "name": "stdout",
          "text": [
            "Streamlit App is live at: NgrokTunnel: \"https://998c-34-85-188-67.ngrok-free.app\" -> \"http://localhost:8501\"\n"
          ]
        }
      ],
      "source": [
        "# These next three are for hosting the app\n",
        "import subprocess\n",
        "import time\n",
        "from pyngrok import ngrok\n",
        "\n",
        "# Kill any existing Streamlit processes\n",
        "!pkill streamlit\n",
        "\n",
        "# Start Streamlit in the background\n",
        "subprocess.Popen([\"streamlit\", \"run\", \"app.py\", \"--server.port\", \"8501\"])\n",
        "\n",
        "# Give Streamlit time to start\n",
        "time.sleep(3)\n",
        "\n",
        "# Open an Ngrok tunnel to the Streamlit app\n",
        "public_url = ngrok.connect(8501, \"http\")\n",
        "print(f\"Streamlit App is live at: {public_url}\")"
      ]
    },
    {
      "cell_type": "code",
      "source": [
        "# When finished, run this cell to end your ngrok session\n",
        "ngrok.kill()"
      ],
      "metadata": {
        "id": "j393OrmERXep"
      },
      "execution_count": null,
      "outputs": []
    },
    {
      "cell_type": "markdown",
      "source": [
        "# Assignment:\n",
        "\n",
        "#### Students should expand their financial model beyond the provided template. For full credit, each project must include:\n",
        "\n",
        "1. At least three new variables (e.g., different expense categories, savings strategies, or loan repayment details).\n",
        "1. 2-3 new visualizations to better illustrate financial projections.\n",
        "1. A new dynamic function (e.g., a slider, interactive input, or real-time updates).\n",
        "\n",
        "Students may modify the existing model or build their own from scratch. Completed projects will be hosted on Streamlit's Cloud."
      ],
      "metadata": {
        "id": "zVEo7CVTLmAC"
      }
    }
  ],
  "metadata": {
    "colab": {
      "provenance": [],
      "include_colab_link": true
    },
    "kernelspec": {
      "display_name": "Python 3",
      "name": "python3"
    },
    "language_info": {
      "name": "python"
    }
  },
  "nbformat": 4,
  "nbformat_minor": 0
}